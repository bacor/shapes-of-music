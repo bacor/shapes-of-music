{
 "cells": [
  {
   "cell_type": "code",
   "execution_count": 100,
   "metadata": {},
   "outputs": [],
   "source": [
    "import numpy as np\n",
    "import pandas as pd\n",
    "import matplotlib\n",
    "import matplotlib.pyplot as plt\n",
    "import seaborn as sns\n",
    "from scipy.spatial.distance import pdist, squareform\n",
    "from unidip.dip import dip_fn, diptst\n",
    "\n",
    "from itertools import product\n",
    "\n",
    "import sys\n",
    "sys.path.append('../')\n",
    "from src.clusterability.dataset import Dataset\n",
    "from src.clusterability.dataset import PRECOMPUTED_DTW_LIMIT, PRECOMPUTED_EUCL_LIMIT, CONDITIONS, PRECOMPUTED_LENGTHS\n",
    "from helpers import cm2inch"
   ]
  },
  {
   "cell_type": "code",
   "execution_count": 110,
   "metadata": {},
   "outputs": [],
   "source": [
    "dataset = Dataset('creighton-phrase')"
   ]
  },
  {
   "cell_type": "code",
   "execution_count": 111,
   "metadata": {},
   "outputs": [],
   "source": [
    "outcomes = []\n",
    "for repres, metrics in CONDITIONS.items():\n",
    "    for metric, length, unique in product(\n",
    "        metrics, PRECOMPUTED_LENGTHS, [True, False]\n",
    "    ):\n",
    "        settings = dict(\n",
    "            representation=repres,\n",
    "            metric=metric,\n",
    "            length=length, \n",
    "            unique=unique,\n",
    "            limit=PRECOMPUTED_DTW_LIMIT\n",
    "                if metric == \"dtw\"\n",
    "                else PRECOMPUTED_EUCL_LIMIT\n",
    "        )\n",
    "        outcome = dataset.dist_dip_test(**settings, read_only=True)\n",
    "        if outcome:\n",
    "            name = dataset.subset_name(**{k: settings[k] for k in ['length', 'unique', 'limit']})\n",
    "            name = f'{repres}-{metric}-{name}'\n",
    "            outcome.pop('xs')\n",
    "            outcome.pop('cdf')\n",
    "            settings.update(outcome)\n",
    "            settings['name'] = name\n",
    "            outcomes.append(settings)\n",
    "        "
   ]
  },
  {
   "cell_type": "code",
   "execution_count": 112,
   "metadata": {},
   "outputs": [],
   "source": [
    "df = pd.DataFrame(outcomes).set_index('name')\n",
    "df.loc[df['length'].isnull(), 'length'] = 'all'"
   ]
  },
  {
   "cell_type": "code",
   "execution_count": 113,
   "metadata": {},
   "outputs": [],
   "source": [
    "from matplotlib.colors import LogNorm\n",
    "from matplotlib.colors import TwoSlopeNorm"
   ]
  },
  {
   "cell_type": "code",
   "execution_count": 114,
   "metadata": {},
   "outputs": [],
   "source": [
    "# alpha = 0.05\n",
    "# normalize = matplotlib.colors.TwoSlopeNorm(vcenter=0.05, vmin=0, vmax=1)\n",
    "# twoslopes = TwoSlopeNorm(vcenter=0.05, vmin=0, vmax=1)"
   ]
  },
  {
   "cell_type": "code",
   "execution_count": 115,
   "metadata": {},
   "outputs": [
    {
     "data": {
      "text/plain": [
       "<AxesSubplot:xlabel='representation-metric', ylabel='length'>"
      ]
     },
     "execution_count": 115,
     "metadata": {},
     "output_type": "execute_result"
    },
    {
     "data": {
      "image/png": "[encoded data removed]",
      "text/plain": [
       "<Figure size 432x288 with 2 Axes>"
      ]
     },
     "metadata": {
      "needs_background": "light"
     },
     "output_type": "display_data"
    }
   ],
   "source": [
    "sns.heatmap(\n",
    "    df.query('unique==True').pivot_table(\n",
    "        values='pval', \n",
    "        index='length', \n",
    "        columns=['representation', 'metric']),\n",
    "    annot=True,\n",
    "    norm=LogNorm(vmin=1e-2, vmax=.5),\n",
    "    cmap = 'Spectral'\n",
    ")"
   ]
  },
  {
   "cell_type": "code",
   "execution_count": 15,
   "metadata": {},
   "outputs": [],
   "source": [
    "sims = dataset.similarities('pitch', 'eucl', unique=False, length=None, limit=PRECOMPUTED_EUCL_LIMIT)"
   ]
  },
  {
   "cell_type": "code",
   "execution_count": 14,
   "metadata": {},
   "outputs": [
    {
     "data": {
      "text/plain": [
       "[<matplotlib.lines.Line2D at 0x12b0999a0>]"
      ]
     },
     "execution_count": 14,
     "metadata": {},
     "output_type": "execute_result"
    },
    {
     "data": {
      "image/png": "[encoded data removed]",
      "text/plain": [
       "<Figure size 432x288 with 1 Axes>"
      ]
     },
     "metadata": {
      "needs_background": "light"
     },
     "output_type": "display_data"
    }
   ],
   "source": [
    "plt.plot(results['xs'], results['cdf'])"
   ]
  },
  {
   "cell_type": "code",
   "execution_count": null,
   "metadata": {},
   "outputs": [],
   "source": []
  }
 ],
 "metadata": {
  "kernelspec": {
   "display_name": "Python 3.8.1 ('env': venv)",
   "language": "python",
   "name": "python3"
  },
  "language_info": {
   "codemirror_mode": {
    "name": "ipython",
    "version": 3
   },
   "file_extension": ".py",
   "mimetype": "text/x-python",
   "name": "python",
   "nbconvert_exporter": "python",
   "pygments_lexer": "ipython3",
   "version": "3.8.1"
  },
  "orig_nbformat": 4,
  "vscode": {
   "interpreter": {
    "hash": "2af2e846855b8cbc944aacb8174c234c8f7312bf26a87e0348e569e2e4e119a0"
   }
  }
 },
 "nbformat": 4,
 "nbformat_minor": 2
}
