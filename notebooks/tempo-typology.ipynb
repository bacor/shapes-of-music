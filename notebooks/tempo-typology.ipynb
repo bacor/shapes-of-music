{
 "cells": [
  {
   "cell_type": "markdown",
   "metadata": {},
   "source": [
    "# Tempo typology"
   ]
  },
  {
   "cell_type": "code",
   "execution_count": 1,
   "metadata": {},
   "outputs": [],
   "source": [
    "import numpy as np\n",
    "import matplotlib\n",
    "import matplotlib.pyplot as plt\n",
    "import pandas as pd\n",
    "import seaborn as sns\n",
    "\n",
    "from diptest import diptest\n",
    "\n",
    "from helpers import cm2inch, title\n",
    "matplotlib.style.use('styles.mplstyle')\n",
    "\n",
    "import warnings\n",
    "warnings.filterwarnings(\"ignore\", category=Warning)\n",
    "\n",
    "# Directory where all figures from this notebook are stored\n",
    "FIG_DIR = '../figures/tempo-typology'\n",
    "SAVE_FIG = True"
   ]
  },
  {
   "cell_type": "code",
   "execution_count": 2,
   "metadata": {},
   "outputs": [],
   "source": [
    "dfs = dict(\n",
    "    maidu = pd.read_csv('densmore-metadata/maidu.csv'),\n",
    "    menominee = pd.read_csv('densmore-metadata/menominee.csv'),\n",
    "    choctaw = pd.read_csv('densmore-metadata/choctaw.csv'),\n",
    "    nootka = pd.read_csv('densmore-metadata/nootka.csv'),\n",
    "    ute = pd.read_csv('densmore-metadata/ute.csv'),\n",
    ")"
   ]
  },
  {
   "cell_type": "code",
   "execution_count": 3,
   "metadata": {},
   "outputs": [],
   "source": [
    "# Collect all tempi in all cultures\n",
    "tempi = []\n",
    "for culture, df in dfs.items():\n",
    "    col = 'bpm_voice' if 'bpm_voice' in df.columns else 'bpm'\n",
    "    single_value = df[col].str.contains(\"\\|\") == False\n",
    "    not_null = df[col].isna() == False\n",
    "    bpm = df[single_value & not_null][col].astype(int)\n",
    "    tempi.extend([(culture, t) for t in bpm])\n",
    "\n",
    "tempi = pd.DataFrame(tempi, columns=['culture', 'bpm'])"
   ]
  },
  {
   "cell_type": "code",
   "execution_count": 4,
   "metadata": {},
   "outputs": [],
   "source": [
    "maidu_tempi = tempi.query(\"culture=='maidu'\").bpm\n",
    "nootka_tempi = tempi.query(\"culture=='nootka'\").bpm"
   ]
  },
  {
   "cell_type": "code",
   "execution_count": 5,
   "metadata": {},
   "outputs": [
    {
     "data": {
      "image/png": "[encoded data removed]",
      "text/plain": [
       "<Figure size 226.772x170.079 with 2 Axes>"
      ]
     },
     "metadata": {
      "needs_background": "light"
     },
     "output_type": "display_data"
    }
   ],
   "source": [
    "fig, (ax1, ax2) = plt.subplots(2, figsize=cm2inch(8, 6), tight_layout=True, sharex=True)\n",
    "dist_props = dict(binrange=(35, 255), binwidth=10, lw=.5, kde=True, stat='density', kde_kws=dict(bw_adjust=.5))\n",
    "\n",
    "def maidu_categories(ax):\n",
    "    ax.axvline(50, c='C0', ls='--', lw=.5)\n",
    "    ax.axvline(73, c='C0', ls='--', lw=.5)\n",
    "    ax.axvline(135, c='C0', ls='--', lw=.5)\n",
    "\n",
    "title('A. Maidu', ax=ax1)\n",
    "sns.histplot(maidu_tempi, ax=ax1, **dist_props)\n",
    "plt.xlim(40, 200)\n",
    "ax1.set_ylim(0, 0.05)\n",
    "ax1.set_xlabel('')\n",
    "maidu_categories(ax1)\n",
    "textprops = dict(\n",
    "    xycoords='axes fraction', \n",
    "    xytext=(0, -5), textcoords='offset points',\n",
    "    color='C0', fontsize=6\n",
    ")\n",
    "ax1.annotate('slow', (.09, 1), **textprops)\n",
    "ax1.annotate('medium', (.32, 1), **textprops)\n",
    "ax1.annotate('fast', (.8, 1), **textprops)\n",
    "\n",
    "plt.sca(ax2)\n",
    "title('B. Nootka')\n",
    "sns.histplot(nootka_tempi, color='C2', ax=ax2, **dist_props)\n",
    "maidu_categories(ax2)\n",
    "plt.xlabel('Tempo (bpm)')\n",
    "\n",
    "if SAVE_FIG: plt.savefig(f'{FIG_DIR}/tempo-distributions-raw.pdf')"
   ]
  },
  {
   "cell_type": "code",
   "execution_count": 6,
   "metadata": {},
   "outputs": [
    {
     "data": {
      "text/plain": [
       "0.0002466694967327987"
      ]
     },
     "execution_count": 6,
     "metadata": {},
     "output_type": "execute_result"
    }
   ],
   "source": [
    "dip, pval = diptest(maidu_tempi)\n",
    "pval"
   ]
  },
  {
   "cell_type": "code",
   "execution_count": 7,
   "metadata": {},
   "outputs": [
    {
     "data": {
      "text/plain": [
       "0.07731230705092729"
      ]
     },
     "execution_count": 7,
     "metadata": {},
     "output_type": "execute_result"
    }
   ],
   "source": [
    "dip, pval = diptest(nootka_tempi)\n",
    "pval"
   ]
  }
 ],
 "metadata": {
  "kernelspec": {
   "display_name": "Python 3.8.1 ('env': venv)",
   "language": "python",
   "name": "python3"
  },
  "language_info": {
   "codemirror_mode": {
    "name": "ipython",
    "version": 3
   },
   "file_extension": ".py",
   "mimetype": "text/x-python",
   "name": "python",
   "nbconvert_exporter": "python",
   "pygments_lexer": "ipython3",
   "version": "3.8.1"
  },
  "vscode": {
   "interpreter": {
    "hash": "2af2e846855b8cbc944aacb8174c234c8f7312bf26a87e0348e569e2e4e119a0"
   }
  }
 },
 "nbformat": 4,
 "nbformat_minor": 4
}
