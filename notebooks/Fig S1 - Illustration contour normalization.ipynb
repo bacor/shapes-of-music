{
 "cells": [
  {
   "cell_type": "markdown",
   "metadata": {},
   "source": [
    "# Illustration of contour normalization"
   ]
  },
  {
   "cell_type": "markdown",
   "metadata": {
    "heading_collapsed": "false"
   },
   "source": [
    "We manually combine the plots into a single figure"
   ]
  },
  {
   "cell_type": "code",
   "execution_count": 1,
   "metadata": {
    "heading_collapsed": "false",
    "jupyter": {
     "source_hidden": true
    }
   },
   "outputs": [],
   "source": [
    "# Import \n",
    "import numpy as np\n",
    "import matplotlib\n",
    "import matplotlib.pyplot as plt\n",
    "import matplotlib.patches as patches\n",
    "import pandas as pd\n",
    "import music21\n",
    "\n",
    "import sys\n",
    "sys.path.append('../')\n",
    "from src.phrases import extract_phrases_from_kern_file\n",
    "from src.phrases import extract_phrases_from_gabc_file\n",
    "from src.contours import interpolate_stream\n",
    "from helpers import cm2inch\n",
    "\n",
    "matplotlib.style.use('styles.mplstyle')\n",
    "copyright = '(c) Bas Cornelissen (CC BY 4.0 licence)'"
   ]
  },
  {
   "cell_type": "code",
   "execution_count": 2,
   "metadata": {
    "heading_collapsed": "false",
    "jupyter": {
     "source_hidden": true
    }
   },
   "outputs": [],
   "source": [
    "def show_phrase(phrase, ys, show_legend=True):\n",
    "    # Extract note durations etc\n",
    "    notes = phrase.recurse().notes\n",
    "    offsets = [float(n.offset) for n in notes]\n",
    "    pitches = [n.pitch.ps for n in notes]\n",
    "    durations = [n.quarterLength for n in notes]\n",
    "\n",
    "    # Get normalized contour\n",
    "    xs = np.linspace(0, 1, 50)\n",
    "    norm_ys = ys - np.mean(ys)\n",
    "\n",
    "    # Plot Piano roll\n",
    "    total_duration = phrase.quarterLength\n",
    "    for offset, duration, pitch in zip(offsets, durations, pitches):\n",
    "        height = 1\n",
    "        bottom_left = (offset/total_duration, pitch - np.mean(ys) - height/2)\n",
    "        rect = patches.Rectangle(bottom_left, duration/total_duration - 0.01, height,\n",
    "                                 facecolor='r', alpha=.4, label='note')\n",
    "        plt.gca().add_patch(rect)\n",
    "\n",
    "\n",
    "    plt.plot(xs, norm_ys, 'k.--', lw=.5, ms=2, label='normalized contour')\n",
    "    plt.xlim(-.05, 1.05)\n",
    "    plt.plot([-.05,1.05], [0,0], 'k:', lw=.5)\n",
    "    \n",
    "    plt.ylabel('normalized pitch')\n",
    "    plt.xlabel('position in phrase')\n",
    "\n",
    "    if show_legend:\n",
    "        # Legend: don't repeat labels\n",
    "        handles, labels = plt.gca().get_legend_handles_labels()\n",
    "        by_label = dict(zip(labels, handles))\n",
    "        plt.legend(by_label.values(), by_label.keys())\n",
    "        \n",
    "# fig = plt.figure(figsize=cm2inch(6, 3), constrained_layout=True)\n",
    "# matplotlib.style.use('styles.mplstyle')\n",
    "# show_phrase(phrase, ys, show_legend=True)\n",
    "# plt.savefig('test3.pdf', pad_inches=0)"
   ]
  },
  {
   "cell_type": "markdown",
   "metadata": {
    "heading_collapsed": "false"
   },
   "source": [
    "## Plot a phrase from Creighton"
   ]
  },
  {
   "cell_type": "markdown",
   "metadata": {
    "heading_collapsed": "false"
   },
   "source": [
    "*Note*: that this is from another corpus, but it only serves to illustrate the normalization."
   ]
  },
  {
   "cell_type": "code",
   "execution_count": 3,
   "metadata": {
    "heading_collapsed": "false",
    "jupyter": {
     "source_hidden": true
    }
   },
   "outputs": [
    {
     "data": {
      "image/png": "[encoded data removed]",
      "text/plain": [
       "<Figure size 354.331x147.638 with 1 Axes>"
      ]
     },
     "metadata": {
      "needs_background": "light"
     },
     "output_type": "display_data"
    }
   ],
   "source": [
    "# Show a phrase from Creighton 1932\n",
    "filepath = '../figures/figS01-representation/nova005.krn'\n",
    "phrases = extract_phrases_from_kern_file(filepath)\n",
    "phrase = phrases[3]\n",
    "pitches = interpolate_stream(phrase)\n",
    "\n",
    "matplotlib.style.use('styles.mplstyle')\n",
    "fig = plt.figure(figsize=cm2inch(6, 2.5))\n",
    "ys = interpolate_stream(phrase)\n",
    "show_phrase(phrase, pitches, show_legend=True)\n",
    "plt.ylim(-6,6)\n",
    "plt.savefig('../figures/figS01a-normalized-contour-creighton.pdf')"
   ]
  },
  {
   "cell_type": "markdown",
   "metadata": {
    "heading_collapsed": "false"
   },
   "source": [
    "## Plot an antiphon phrase "
   ]
  },
  {
   "cell_type": "code",
   "execution_count": 4,
   "metadata": {
    "heading_collapsed": "false",
    "jupyter": {
     "source_hidden": true
    }
   },
   "outputs": [
    {
     "data": {
      "image/png": "[encoded data removed]",
      "text/plain": [
       "<Figure size 354.331x147.638 with 1 Axes>"
      ]
     },
     "metadata": {
      "needs_background": "light"
     },
     "output_type": "display_data"
    }
   ],
   "source": [
    "# Show a phrase from an antiphon\n",
    "filepath = '../figures/figS01-representation/00030.gabc'\n",
    "phrases = extract_phrases_from_gabc_file(filepath)\n",
    "phrase = phrases[0]\n",
    "pitches = interpolate_stream(phrase)\n",
    "\n",
    "fig = plt.figure(figsize=cm2inch(6,2.5))\n",
    "show_phrase(phrase, pitches, show_legend=False)\n",
    "plt.title(None)\n",
    "plt.ylim(-6,6)\n",
    "plt.savefig('../figures/figS01b-normalized-contour-exurge.pdf')"
   ]
  },
  {
   "cell_type": "code",
   "execution_count": null,
   "metadata": {
    "heading_collapsed": "false"
   },
   "outputs": [],
   "source": []
  }
 ],
 "metadata": {
  "kernelspec": {
   "display_name": "Python 3",
   "language": "python",
   "name": "python3"
  },
  "language_info": {
   "codemirror_mode": {
    "name": "ipython",
    "version": 3
   },
   "file_extension": ".py",
   "mimetype": "text/x-python",
   "name": "python",
   "nbconvert_exporter": "python",
   "pygments_lexer": "ipython3",
   "version": "3.7.6"
  }
 },
 "nbformat": 4,
 "nbformat_minor": 4
}
